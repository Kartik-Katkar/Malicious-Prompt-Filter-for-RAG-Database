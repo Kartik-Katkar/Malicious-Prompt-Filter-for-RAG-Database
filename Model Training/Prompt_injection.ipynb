{
  "nbformat": 4,
  "nbformat_minor": 0,
  "metadata": {
    "colab": {
      "provenance": []
    },
    "kernelspec": {
      "name": "python3",
      "display_name": "Python 3"
    },
    "language_info": {
      "name": "python"
    }
  },
  "cells": [
    {
      "cell_type": "code",
      "source": [
        "# Step 1: Mount Google Drive\n",
        "from google.colab import drive\n",
        "drive.mount('/content/drive')"
      ],
      "metadata": {
        "colab": {
          "base_uri": "https://localhost:8080/",
          "height": 0
        },
        "id": "1Q5fR9sGPJ23",
        "outputId": "f052e013-5a73-4920-ee92-de847f302303"
      },
      "execution_count": 6,
      "outputs": [
        {
          "output_type": "stream",
          "name": "stdout",
          "text": [
            "Drive already mounted at /content/drive; to attempt to forcibly remount, call drive.mount(\"/content/drive\", force_remount=True).\n"
          ]
        }
      ]
    },
    {
      "cell_type": "code",
      "source": [
        "# Step 2: Import necessary libraries\n",
        "import pandas as pd\n",
        "from sklearn.feature_extraction.text import TfidfVectorizer\n",
        "from sklearn.model_selection import train_test_split\n",
        "from sklearn.linear_model import LogisticRegression\n",
        "from sklearn.metrics import classification_report, accuracy_score\n",
        "import joblib\n",
        "\n",
        "# Step 3: Load the dataset from Google Drive\n",
        "file_path = '/content/drive/My Drive/Prompt_project/cleaned_dataset.csv'\n",
        "df = pd.read_csv(file_path)\n",
        "\n",
        "# Step 4: Data Preprocessing\n",
        "# Remove any rows with empty prompts or values\n",
        "df.dropna(subset=['Prompt', 'Value'], inplace=True)\n",
        "\n",
        "# Replace any non-0/1 values in the 'Value' column with 1\n",
        "df['Value'] = df['Value'].apply(lambda x: 1 if x not in [0, 1] else x)\n",
        "\n",
        "# Step 5: Split the data into training and testing sets\n",
        "X = df['Prompt']\n",
        "y = df['Value']\n",
        "X_train, X_test, y_train, y_test = train_test_split(X, y, test_size=0.2, random_state=42)\n",
        "\n",
        "# Step 6: Vectorize the text data\n",
        "vectorizer = TfidfVectorizer()\n",
        "X_train_tfidf = vectorizer.fit_transform(X_train)\n",
        "X_test_tfidf = vectorizer.transform(X_test)\n",
        "\n",
        "# Step 7: Train the Logistic Regression model\n",
        "model = LogisticRegression()\n",
        "model.fit(X_train_tfidf, y_train)\n",
        "\n",
        "# Step 8: Make predictions on the test set\n",
        "y_pred = model.predict(X_test_tfidf)\n",
        "\n",
        "# Step 9: Evaluate the model\n",
        "print(\"Accuracy:\", accuracy_score(y_test, y_pred))\n",
        "print(\"Classification Report:\\n\", classification_report(y_test, y_pred))\n",
        "\n",
        "# Step 10: Save the model and vectorizer to Google Drive\n",
        "model_path = '/content/drive/My Drive/Prompt_project/logistic_regression_model.pkl'\n",
        "vectorizer_path = '/content/drive/My Drive/Prompt_project/tfidf_vectorizer.pkl'\n",
        "joblib.dump(model, model_path)\n",
        "joblib.dump(vectorizer, vectorizer_path)"
      ],
      "metadata": {
        "colab": {
          "base_uri": "https://localhost:8080/",
          "height": 0
        },
        "id": "QSha_vqzQWPF",
        "outputId": "d4f8820a-2742-42fe-f03d-7f8cdf5b2de2"
      },
      "execution_count": 8,
      "outputs": [
        {
          "output_type": "stream",
          "name": "stdout",
          "text": [
            "Accuracy: 0.9847864248098304\n",
            "Classification Report:\n",
            "               precision    recall  f1-score   support\n",
            "\n",
            "           0       0.99      0.55      0.70       282\n",
            "           1       0.98      1.00      0.99      8263\n",
            "\n",
            "    accuracy                           0.98      8545\n",
            "   macro avg       0.99      0.77      0.85      8545\n",
            "weighted avg       0.98      0.98      0.98      8545\n",
            "\n"
          ]
        },
        {
          "output_type": "execute_result",
          "data": {
            "text/plain": [
              "['/content/drive/My Drive/Prompt_project/tfidf_vectorizer.pkl']"
            ]
          },
          "metadata": {},
          "execution_count": 8
        }
      ]
    },
    {
      "cell_type": "code",
      "source": [
        "# Step 7: Train a Random Forest Classifier\n",
        "from sklearn.ensemble import RandomForestClassifier\n",
        "\n",
        "model = RandomForestClassifier(n_estimators=100, random_state=42)\n",
        "model.fit(X_train_tfidf, y_train)\n",
        "\n",
        "# Step 8: Make predictions on the test set\n",
        "y_pred = model.predict(X_test_tfidf)\n",
        "\n",
        "# Step 9: Evaluate the model\n",
        "print(\"Accuracy:\", accuracy_score(y_test, y_pred))\n",
        "print(\"Classification Report:\\n\", classification_report(y_test, y_pred))\n",
        "\n",
        "# Step 10: Save the model and vectorizer to Google Drive\n",
        "model_path = '/content/drive/My Drive/Prompt_project/random_forest_model.pkl'\n",
        "joblib.dump(model, model_path)\n"
      ],
      "metadata": {
        "colab": {
          "base_uri": "https://localhost:8080/",
          "height": 0
        },
        "id": "TjgQGBFoR6JE",
        "outputId": "09a27aa9-f192-4655-bce1-aca3aaf9dabc"
      },
      "execution_count": 10,
      "outputs": [
        {
          "output_type": "stream",
          "name": "stdout",
          "text": [
            "Accuracy: 0.9954359274429491\n",
            "Classification Report:\n",
            "               precision    recall  f1-score   support\n",
            "\n",
            "           0       1.00      0.87      0.93       282\n",
            "           1       1.00      1.00      1.00      8263\n",
            "\n",
            "    accuracy                           1.00      8545\n",
            "   macro avg       1.00      0.93      0.96      8545\n",
            "weighted avg       1.00      1.00      1.00      8545\n",
            "\n"
          ]
        },
        {
          "output_type": "execute_result",
          "data": {
            "text/plain": [
              "['/content/drive/My Drive/Prompt_project/random_forest_model.pkl']"
            ]
          },
          "metadata": {},
          "execution_count": 10
        }
      ]
    }
  ]
}